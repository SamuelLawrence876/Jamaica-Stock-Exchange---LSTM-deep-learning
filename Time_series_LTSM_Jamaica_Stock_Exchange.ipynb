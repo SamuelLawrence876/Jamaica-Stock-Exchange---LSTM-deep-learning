{
  "nbformat": 4,
  "nbformat_minor": 0,
  "metadata": {
    "colab": {
      "name": "Time series LTSM - Jamaica Stock Exchange.ipynb",
      "provenance": [],
      "authorship_tag": "ABX9TyO6fecxjlnkUV1CTlVAZbIw",
      "include_colab_link": true
    },
    "kernelspec": {
      "name": "python3",
      "display_name": "Python 3"
    }
  },
  "cells": [
    {
      "cell_type": "markdown",
      "metadata": {
        "id": "view-in-github",
        "colab_type": "text"
      },
      "source": [
        "<a href=\"https://colab.research.google.com/github/SamuelLawrence876/Jamaica-Stock-Exchange---LTSM-deep-learning/blob/master/Time_series_LTSM_Jamaica_Stock_Exchange.ipynb\" target=\"_parent\"><img src=\"https://colab.research.google.com/assets/colab-badge.svg\" alt=\"Open In Colab\"/></a>"
      ]
    },
    {
      "cell_type": "code",
      "metadata": {
        "id": "GyPnGVZVqtVP",
        "colab_type": "code",
        "colab": {}
      },
      "source": [
        "import pandas as pd\n",
        "import numpy as np\n",
        "import matplotlib.pyplot as plt\n",
        "\n",
        "from tensorflow.keras.models import Sequential\n",
        "from tensorflow.keras.layers import LSTM\n",
        "from tensorflow.keras.layers import Dense\n",
        "from tensorflow.keras.layers import Flatten"
      ],
      "execution_count": null,
      "outputs": []
    },
    {
      "cell_type": "code",
      "metadata": {
        "id": "U2NhO6G5qtXc",
        "colab_type": "code",
        "colab": {}
      },
      "source": [
        "url = 'https://www.jamstockex.com/market-data/download-data/index-history/main-market/JSE-Index/2010-08-08/2020-08-10'\n",
        "df = pd.read_html(url)"
      ],
      "execution_count": null,
      "outputs": []
    },
    {
      "cell_type": "code",
      "metadata": {
        "id": "41b6nMUJqtZn",
        "colab_type": "code",
        "colab": {}
      },
      "source": [
        "jse = df[0] "
      ],
      "execution_count": null,
      "outputs": []
    },
    {
      "cell_type": "code",
      "metadata": {
        "id": "gqlendxtqtb7",
        "colab_type": "code",
        "colab": {
          "base_uri": "https://localhost:8080/",
          "height": 204
        },
        "outputId": "0ed88217-1462-4b77-cc4e-a6b223c7c855"
      },
      "source": [
        "jse.head()"
      ],
      "execution_count": null,
      "outputs": [
        {
          "output_type": "execute_result",
          "data": {
            "text/html": [
              "<div>\n",
              "<style scoped>\n",
              "    .dataframe tbody tr th:only-of-type {\n",
              "        vertical-align: middle;\n",
              "    }\n",
              "\n",
              "    .dataframe tbody tr th {\n",
              "        vertical-align: top;\n",
              "    }\n",
              "\n",
              "    .dataframe thead th {\n",
              "        text-align: right;\n",
              "    }\n",
              "</style>\n",
              "<table border=\"1\" class=\"dataframe\">\n",
              "  <thead>\n",
              "    <tr style=\"text-align: right;\">\n",
              "      <th></th>\n",
              "      <th>Date</th>\n",
              "      <th>Index</th>\n",
              "      <th>Value</th>\n",
              "      <th>Change</th>\n",
              "      <th>Change (%)</th>\n",
              "      <th>Volume Traded</th>\n",
              "    </tr>\n",
              "  </thead>\n",
              "  <tbody>\n",
              "    <tr>\n",
              "      <th>0</th>\n",
              "      <td>Aug-09-2010</td>\n",
              "      <td>JSE Index</td>\n",
              "      <td>86537.90</td>\n",
              "      <td>-293.10</td>\n",
              "      <td>-0.34%</td>\n",
              "      <td>1371526</td>\n",
              "    </tr>\n",
              "    <tr>\n",
              "      <th>1</th>\n",
              "      <td>Aug-10-2010</td>\n",
              "      <td>JSE Index</td>\n",
              "      <td>86252.56</td>\n",
              "      <td>-285.34</td>\n",
              "      <td>-0.33%</td>\n",
              "      <td>815629</td>\n",
              "    </tr>\n",
              "    <tr>\n",
              "      <th>2</th>\n",
              "      <td>Aug-11-2010</td>\n",
              "      <td>JSE Index</td>\n",
              "      <td>85848.64</td>\n",
              "      <td>-403.92</td>\n",
              "      <td>-0.47%</td>\n",
              "      <td>1128050</td>\n",
              "    </tr>\n",
              "    <tr>\n",
              "      <th>3</th>\n",
              "      <td>Aug-12-2010</td>\n",
              "      <td>JSE Index</td>\n",
              "      <td>86384.57</td>\n",
              "      <td>535.93</td>\n",
              "      <td>0.62%</td>\n",
              "      <td>3296562</td>\n",
              "    </tr>\n",
              "    <tr>\n",
              "      <th>4</th>\n",
              "      <td>Aug-13-2010</td>\n",
              "      <td>JSE Index</td>\n",
              "      <td>86019.03</td>\n",
              "      <td>-365.54</td>\n",
              "      <td>-0.42%</td>\n",
              "      <td>1632501</td>\n",
              "    </tr>\n",
              "  </tbody>\n",
              "</table>\n",
              "</div>"
            ],
            "text/plain": [
              "          Date      Index     Value  Change Change (%)  Volume Traded\n",
              "0  Aug-09-2010  JSE Index  86537.90 -293.10     -0.34%        1371526\n",
              "1  Aug-10-2010  JSE Index  86252.56 -285.34     -0.33%         815629\n",
              "2  Aug-11-2010  JSE Index  85848.64 -403.92     -0.47%        1128050\n",
              "3  Aug-12-2010  JSE Index  86384.57  535.93      0.62%        3296562\n",
              "4  Aug-13-2010  JSE Index  86019.03 -365.54     -0.42%        1632501"
            ]
          },
          "metadata": {
            "tags": []
          },
          "execution_count": 31
        }
      ]
    },
    {
      "cell_type": "code",
      "metadata": {
        "id": "hRQ4SO2kqtgp",
        "colab_type": "code",
        "colab": {
          "base_uri": "https://localhost:8080/",
          "height": 34
        },
        "outputId": "393a0a1b-bede-4d4b-893b-f45a33204728"
      },
      "source": [
        "jse.shape"
      ],
      "execution_count": null,
      "outputs": [
        {
          "output_type": "execute_result",
          "data": {
            "text/plain": [
              "(2515, 6)"
            ]
          },
          "metadata": {
            "tags": []
          },
          "execution_count": 32
        }
      ]
    },
    {
      "cell_type": "code",
      "metadata": {
        "id": "AKIUobBhsH5Z",
        "colab_type": "code",
        "colab": {}
      },
      "source": [
        ""
      ],
      "execution_count": null,
      "outputs": []
    },
    {
      "cell_type": "code",
      "metadata": {
        "id": "Can8exLusICO",
        "colab_type": "code",
        "colab": {}
      },
      "source": [
        ""
      ],
      "execution_count": null,
      "outputs": []
    },
    {
      "cell_type": "code",
      "metadata": {
        "id": "41sPLgQ6qti9",
        "colab_type": "code",
        "colab": {}
      },
      "source": [
        "# preparing independent and dependent features\n",
        "def prepare_data(timeseries_data, n_features):\n",
        "\tX, y =[],[]\n",
        "\tfor i in range(len(timeseries_data)):\n",
        "\t\t# find the end of this pattern\n",
        "\t\tend_ix = i + n_features\n",
        "\t\t# check if we are beyond the sequence\n",
        "\t\tif end_ix > len(timeseries_data)-1:\n",
        "\t\t\tbreak\n",
        "\t\t# gather input and output parts of the pattern\n",
        "\t\tseq_x, seq_y = timeseries_data[i:end_ix], timeseries_data[end_ix]\n",
        "\t\tX.append(seq_x)\n",
        "\t\ty.append(seq_y)\n",
        "\treturn np.array(X), np.array(y)"
      ],
      "execution_count": null,
      "outputs": []
    },
    {
      "cell_type": "code",
      "metadata": {
        "id": "qSRMkuwFvlSi",
        "colab_type": "code",
        "colab": {}
      },
      "source": [
        "\n",
        "# define input sequence\n",
        "timeseries_data = [110, 125, 133, 146, 158, 172, 187, 196, 210]\n",
        "# choose a number of time steps\n",
        "n_steps = 3\n",
        "# split into samples\n",
        "X, y = prepare_data(timeseries_data, n_steps)"
      ],
      "execution_count": null,
      "outputs": []
    },
    {
      "cell_type": "code",
      "metadata": {
        "id": "YEFqfZn2sSDD",
        "colab_type": "code",
        "colab": {}
      },
      "source": [
        "timeseries_data = jse['Value'].tolist()"
      ],
      "execution_count": null,
      "outputs": []
    },
    {
      "cell_type": "code",
      "metadata": {
        "id": "pEJnKr6BqtlJ",
        "colab_type": "code",
        "colab": {}
      },
      "source": [
        "# choose a number of time steps\n",
        "n_steps = 3\n",
        "# split into samples\n",
        "X, y = prepare_data(timeseries_data, n_steps)"
      ],
      "execution_count": null,
      "outputs": []
    },
    {
      "cell_type": "code",
      "metadata": {
        "id": "VsS-O089qtnl",
        "colab_type": "code",
        "colab": {
          "base_uri": "https://localhost:8080/",
          "height": 170
        },
        "outputId": "ca71f2b7-bc64-469e-e765-744bcc137571"
      },
      "source": [
        "print(X),print(y)"
      ],
      "execution_count": null,
      "outputs": [
        {
          "output_type": "stream",
          "text": [
            "[[ 86537.9   86252.56  85848.64]\n",
            " [ 86252.56  85848.64  86384.57]\n",
            " [ 85848.64  86384.57  86019.03]\n",
            " ...\n",
            " [370421.97 376218.86 372186.65]\n",
            " [376218.86 372186.65 369556.63]\n",
            " [372186.65 369556.63 368853.34]]\n",
            "[ 86384.57  86019.03  85583.28 ... 369556.63 368853.34 369854.08]\n"
          ],
          "name": "stdout"
        },
        {
          "output_type": "execute_result",
          "data": {
            "text/plain": [
              "(None, None)"
            ]
          },
          "metadata": {
            "tags": []
          },
          "execution_count": 37
        }
      ]
    },
    {
      "cell_type": "code",
      "metadata": {
        "id": "lOy3hGPxqtqL",
        "colab_type": "code",
        "colab": {
          "base_uri": "https://localhost:8080/",
          "height": 34
        },
        "outputId": "d81db607-79b6-4bb6-d7f5-638c7726ee7c"
      },
      "source": [
        "X.shape"
      ],
      "execution_count": null,
      "outputs": [
        {
          "output_type": "execute_result",
          "data": {
            "text/plain": [
              "(2512, 3)"
            ]
          },
          "metadata": {
            "tags": []
          },
          "execution_count": 38
        }
      ]
    },
    {
      "cell_type": "code",
      "metadata": {
        "id": "FoXofgX-rmOT",
        "colab_type": "code",
        "colab": {}
      },
      "source": [
        "n_features = 1\n",
        "X = X.reshape((X.shape[0], X.shape[1], n_features))"
      ],
      "execution_count": null,
      "outputs": []
    },
    {
      "cell_type": "code",
      "metadata": {
        "id": "oba4g_1DrmQ8",
        "colab_type": "code",
        "colab": {
          "base_uri": "https://localhost:8080/",
          "height": 1000
        },
        "outputId": "0af4669d-9930-49f1-dce1-d421b749a8fa"
      },
      "source": [
        "model = Sequential()\n",
        "model.add(LSTM(50, activation='relu', return_sequences=True, input_shape=(n_steps, n_features)))\n",
        "model.add(LSTM(50, activation='relu'))\n",
        "model.add(Dense(1))\n",
        "model.compile(optimizer='adam', loss='mse')\n",
        "# fit model\n",
        "model.fit(X, y, epochs=300, verbose=1)"
      ],
      "execution_count": null,
      "outputs": [
        {
          "output_type": "stream",
          "text": [
            "WARNING:tensorflow:Layer lstm_4 will not use cuDNN kernel since it doesn't meet the cuDNN kernel criteria. It will use generic GPU kernel as fallback when running on GPU\n",
            "WARNING:tensorflow:Layer lstm_5 will not use cuDNN kernel since it doesn't meet the cuDNN kernel criteria. It will use generic GPU kernel as fallback when running on GPU\n",
            "Epoch 1/300\n",
            "79/79 [==============================] - 1s 12ms/step - loss: 35023421440.0000\n",
            "Epoch 2/300\n",
            "79/79 [==============================] - 1s 12ms/step - loss: 5966610432.0000\n",
            "Epoch 3/300\n",
            "79/79 [==============================] - 1s 13ms/step - loss: 12503506.0000\n",
            "Epoch 4/300\n",
            "79/79 [==============================] - 1s 12ms/step - loss: 10999974.0000\n",
            "Epoch 5/300\n",
            "79/79 [==============================] - 1s 13ms/step - loss: 10914698.0000\n",
            "Epoch 6/300\n",
            "79/79 [==============================] - 1s 13ms/step - loss: 11050868.0000\n",
            "Epoch 7/300\n",
            "79/79 [==============================] - 1s 12ms/step - loss: 11079378.0000\n",
            "Epoch 8/300\n",
            "79/79 [==============================] - 1s 13ms/step - loss: 10930717.0000\n",
            "Epoch 9/300\n",
            "79/79 [==============================] - 1s 12ms/step - loss: 10909174.0000\n",
            "Epoch 10/300\n",
            "79/79 [==============================] - 1s 12ms/step - loss: 11021892.0000\n",
            "Epoch 11/300\n",
            "79/79 [==============================] - 1s 12ms/step - loss: 11068491.0000\n",
            "Epoch 12/300\n",
            "79/79 [==============================] - 1s 12ms/step - loss: 11029234.0000\n",
            "Epoch 13/300\n",
            "79/79 [==============================] - 1s 13ms/step - loss: 10966085.0000\n",
            "Epoch 14/300\n",
            "79/79 [==============================] - 1s 12ms/step - loss: 11063563.0000\n",
            "Epoch 15/300\n",
            "79/79 [==============================] - 1s 12ms/step - loss: 10968222.0000\n",
            "Epoch 16/300\n",
            "79/79 [==============================] - 1s 13ms/step - loss: 11131769.0000\n",
            "Epoch 17/300\n",
            "79/79 [==============================] - 1s 13ms/step - loss: 10877625.0000\n",
            "Epoch 18/300\n",
            "79/79 [==============================] - 1s 13ms/step - loss: 11102996.0000\n",
            "Epoch 19/300\n",
            "79/79 [==============================] - 1s 13ms/step - loss: 11083107.0000\n",
            "Epoch 20/300\n",
            "79/79 [==============================] - 1s 12ms/step - loss: 11302453.0000\n",
            "Epoch 21/300\n",
            "79/79 [==============================] - 1s 13ms/step - loss: 10955923.0000\n",
            "Epoch 22/300\n",
            "79/79 [==============================] - 1s 13ms/step - loss: 11142324.0000\n",
            "Epoch 23/300\n",
            "79/79 [==============================] - 1s 13ms/step - loss: 10941290.0000\n",
            "Epoch 24/300\n",
            "79/79 [==============================] - 1s 13ms/step - loss: 11068197.0000\n",
            "Epoch 25/300\n",
            "79/79 [==============================] - 1s 13ms/step - loss: 10893252.0000\n",
            "Epoch 26/300\n",
            "79/79 [==============================] - 1s 13ms/step - loss: 11042253.0000\n",
            "Epoch 27/300\n",
            "79/79 [==============================] - 1s 13ms/step - loss: 10815432.0000\n",
            "Epoch 28/300\n",
            "79/79 [==============================] - 1s 12ms/step - loss: 11139294.0000\n",
            "Epoch 29/300\n",
            "79/79 [==============================] - 1s 12ms/step - loss: 10961051.0000\n",
            "Epoch 30/300\n",
            "79/79 [==============================] - 1s 12ms/step - loss: 11007877.0000\n",
            "Epoch 31/300\n",
            "79/79 [==============================] - 1s 13ms/step - loss: 11198403.0000\n",
            "Epoch 32/300\n",
            "79/79 [==============================] - 1s 12ms/step - loss: 11071181.0000\n",
            "Epoch 33/300\n",
            "79/79 [==============================] - 1s 12ms/step - loss: 11035754.0000\n",
            "Epoch 34/300\n",
            "79/79 [==============================] - 1s 13ms/step - loss: 11054550.0000\n",
            "Epoch 35/300\n",
            "79/79 [==============================] - 1s 12ms/step - loss: 11113098.0000\n",
            "Epoch 36/300\n",
            "79/79 [==============================] - 1s 12ms/step - loss: 10980782.0000\n",
            "Epoch 37/300\n",
            "79/79 [==============================] - 1s 12ms/step - loss: 11453319.0000\n",
            "Epoch 38/300\n",
            "79/79 [==============================] - 1s 13ms/step - loss: 10887580.0000\n",
            "Epoch 39/300\n",
            "79/79 [==============================] - 1s 12ms/step - loss: 11262024.0000\n",
            "Epoch 40/300\n",
            "79/79 [==============================] - 1s 12ms/step - loss: 11368558.0000\n",
            "Epoch 41/300\n",
            "79/79 [==============================] - 1s 12ms/step - loss: 11223093.0000\n",
            "Epoch 42/300\n",
            "79/79 [==============================] - 1s 12ms/step - loss: 10971272.0000\n",
            "Epoch 43/300\n",
            "79/79 [==============================] - 1s 12ms/step - loss: 11357385.0000\n",
            "Epoch 44/300\n",
            "79/79 [==============================] - 1s 13ms/step - loss: 11140151.0000\n",
            "Epoch 45/300\n",
            "79/79 [==============================] - 1s 12ms/step - loss: 11389067.0000\n",
            "Epoch 46/300\n",
            "79/79 [==============================] - 1s 12ms/step - loss: 11806248.0000\n",
            "Epoch 47/300\n",
            "79/79 [==============================] - 1s 12ms/step - loss: 11263351.0000\n",
            "Epoch 48/300\n",
            "79/79 [==============================] - 1s 13ms/step - loss: 11241102.0000\n",
            "Epoch 49/300\n",
            "79/79 [==============================] - 1s 12ms/step - loss: 11261878.0000\n",
            "Epoch 50/300\n",
            "79/79 [==============================] - 1s 12ms/step - loss: 11113192.0000\n",
            "Epoch 51/300\n",
            "79/79 [==============================] - 1s 12ms/step - loss: 10872384.0000\n",
            "Epoch 52/300\n",
            "79/79 [==============================] - 1s 12ms/step - loss: 11251627.0000\n",
            "Epoch 53/300\n",
            "79/79 [==============================] - 1s 12ms/step - loss: 11061254.0000\n",
            "Epoch 54/300\n",
            "79/79 [==============================] - 1s 13ms/step - loss: 11049548.0000\n",
            "Epoch 55/300\n",
            "79/79 [==============================] - 1s 12ms/step - loss: 11108623.0000\n",
            "Epoch 56/300\n",
            "79/79 [==============================] - 1s 12ms/step - loss: 11511552.0000\n",
            "Epoch 57/300\n",
            "79/79 [==============================] - 1s 12ms/step - loss: 11578258.0000\n",
            "Epoch 58/300\n",
            "79/79 [==============================] - 1s 12ms/step - loss: 11855784.0000\n",
            "Epoch 59/300\n",
            "79/79 [==============================] - 1s 12ms/step - loss: 11752845.0000\n",
            "Epoch 60/300\n",
            "79/79 [==============================] - 1s 12ms/step - loss: 12531912.0000\n",
            "Epoch 61/300\n",
            "79/79 [==============================] - 1s 12ms/step - loss: 11241056.0000\n",
            "Epoch 62/300\n",
            "79/79 [==============================] - 1s 12ms/step - loss: 11457802.0000\n",
            "Epoch 63/300\n",
            "79/79 [==============================] - 1s 13ms/step - loss: 11654942.0000\n",
            "Epoch 64/300\n",
            "79/79 [==============================] - 1s 12ms/step - loss: 11435372.0000\n",
            "Epoch 65/300\n",
            "79/79 [==============================] - 1s 13ms/step - loss: 12369055.0000\n",
            "Epoch 66/300\n",
            "79/79 [==============================] - 1s 12ms/step - loss: 11466454.0000\n",
            "Epoch 67/300\n",
            "79/79 [==============================] - 1s 13ms/step - loss: 11117224.0000\n",
            "Epoch 68/300\n",
            "79/79 [==============================] - 1s 12ms/step - loss: 13042192.0000\n",
            "Epoch 69/300\n",
            "79/79 [==============================] - 1s 13ms/step - loss: 12353627.0000\n",
            "Epoch 70/300\n",
            "79/79 [==============================] - 1s 13ms/step - loss: 12571015.0000\n",
            "Epoch 71/300\n",
            "79/79 [==============================] - 1s 12ms/step - loss: 11652607.0000\n",
            "Epoch 72/300\n",
            "79/79 [==============================] - 1s 12ms/step - loss: 11037465.0000\n",
            "Epoch 73/300\n",
            "79/79 [==============================] - 1s 13ms/step - loss: 11875330.0000\n",
            "Epoch 74/300\n",
            "79/79 [==============================] - 1s 12ms/step - loss: 11305675.0000\n",
            "Epoch 75/300\n",
            "79/79 [==============================] - 1s 13ms/step - loss: 12013732.0000\n",
            "Epoch 76/300\n",
            "79/79 [==============================] - 1s 12ms/step - loss: 11920882.0000\n",
            "Epoch 77/300\n",
            "79/79 [==============================] - 1s 12ms/step - loss: 12285779.0000\n",
            "Epoch 78/300\n",
            "79/79 [==============================] - 1s 13ms/step - loss: 11452027.0000\n",
            "Epoch 79/300\n",
            "79/79 [==============================] - 1s 12ms/step - loss: 12046983.0000\n",
            "Epoch 80/300\n",
            "79/79 [==============================] - 1s 12ms/step - loss: 11697606.0000\n",
            "Epoch 81/300\n",
            "79/79 [==============================] - 1s 12ms/step - loss: 11931419.0000\n",
            "Epoch 82/300\n",
            "79/79 [==============================] - 1s 12ms/step - loss: 12186133.0000\n",
            "Epoch 83/300\n",
            "79/79 [==============================] - 1s 13ms/step - loss: 11541702.0000\n",
            "Epoch 84/300\n",
            "79/79 [==============================] - 1s 12ms/step - loss: 11232760.0000\n",
            "Epoch 85/300\n",
            "79/79 [==============================] - 1s 13ms/step - loss: 13039810.0000\n",
            "Epoch 86/300\n",
            "79/79 [==============================] - 1s 12ms/step - loss: 12746194.0000\n",
            "Epoch 87/300\n",
            "79/79 [==============================] - 1s 12ms/step - loss: 11814756.0000\n",
            "Epoch 88/300\n",
            "79/79 [==============================] - 1s 12ms/step - loss: 11693430.0000\n",
            "Epoch 89/300\n",
            "79/79 [==============================] - 1s 12ms/step - loss: 11418941.0000\n",
            "Epoch 90/300\n",
            "79/79 [==============================] - 1s 13ms/step - loss: 14442113.0000\n",
            "Epoch 91/300\n",
            "79/79 [==============================] - 1s 12ms/step - loss: 12617795.0000\n",
            "Epoch 92/300\n",
            "79/79 [==============================] - 1s 12ms/step - loss: 12817395.0000\n",
            "Epoch 93/300\n",
            "79/79 [==============================] - 1s 13ms/step - loss: 13090621.0000\n",
            "Epoch 94/300\n",
            "79/79 [==============================] - 1s 12ms/step - loss: 11203036.0000\n",
            "Epoch 95/300\n",
            "79/79 [==============================] - 1s 12ms/step - loss: 11486395.0000\n",
            "Epoch 96/300\n",
            "79/79 [==============================] - 1s 12ms/step - loss: 12936637.0000\n",
            "Epoch 97/300\n",
            "79/79 [==============================] - 1s 12ms/step - loss: 11839295.0000\n",
            "Epoch 98/300\n",
            "79/79 [==============================] - 1s 12ms/step - loss: 11177944.0000\n",
            "Epoch 99/300\n",
            "79/79 [==============================] - 1s 12ms/step - loss: 11100537.0000\n",
            "Epoch 100/300\n",
            "79/79 [==============================] - 1s 12ms/step - loss: 12537178.0000\n",
            "Epoch 101/300\n",
            "79/79 [==============================] - 1s 12ms/step - loss: 11181663.0000\n",
            "Epoch 102/300\n",
            "79/79 [==============================] - 1s 12ms/step - loss: 11621154.0000\n",
            "Epoch 103/300\n",
            "79/79 [==============================] - 1s 12ms/step - loss: 11388302.0000\n",
            "Epoch 104/300\n",
            "79/79 [==============================] - 1s 12ms/step - loss: 11669608.0000\n",
            "Epoch 105/300\n",
            "79/79 [==============================] - 1s 12ms/step - loss: 12034677.0000\n",
            "Epoch 106/300\n",
            "79/79 [==============================] - 1s 13ms/step - loss: 12347943.0000\n",
            "Epoch 107/300\n",
            "79/79 [==============================] - 1s 13ms/step - loss: 11595512.0000\n",
            "Epoch 108/300\n",
            "79/79 [==============================] - 1s 12ms/step - loss: 13028280.0000\n",
            "Epoch 109/300\n",
            "79/79 [==============================] - 1s 12ms/step - loss: 12467244.0000\n",
            "Epoch 110/300\n",
            "79/79 [==============================] - 1s 12ms/step - loss: 13498629.0000\n",
            "Epoch 111/300\n",
            "79/79 [==============================] - 1s 12ms/step - loss: 15021235.0000\n",
            "Epoch 112/300\n",
            "79/79 [==============================] - 1s 13ms/step - loss: 12734369.0000\n",
            "Epoch 113/300\n",
            "79/79 [==============================] - 1s 12ms/step - loss: 12491202.0000\n",
            "Epoch 114/300\n",
            "79/79 [==============================] - 1s 12ms/step - loss: 10881463.0000\n",
            "Epoch 115/300\n",
            "79/79 [==============================] - 1s 12ms/step - loss: 12689833.0000\n",
            "Epoch 116/300\n",
            "79/79 [==============================] - 1s 12ms/step - loss: 11712625.0000\n",
            "Epoch 117/300\n",
            "79/79 [==============================] - 1s 13ms/step - loss: 12330847.0000\n",
            "Epoch 118/300\n",
            "79/79 [==============================] - 1s 12ms/step - loss: 11595531.0000\n",
            "Epoch 119/300\n",
            "79/79 [==============================] - 1s 13ms/step - loss: 11867447.0000\n",
            "Epoch 120/300\n",
            "79/79 [==============================] - 1s 12ms/step - loss: 10901609.0000\n",
            "Epoch 121/300\n",
            "79/79 [==============================] - 1s 12ms/step - loss: 13299639.0000\n",
            "Epoch 122/300\n",
            "79/79 [==============================] - 1s 12ms/step - loss: 13688829.0000\n",
            "Epoch 123/300\n",
            "79/79 [==============================] - 1s 12ms/step - loss: 11376035.0000\n",
            "Epoch 124/300\n",
            "79/79 [==============================] - 1s 13ms/step - loss: 10844247.0000\n",
            "Epoch 125/300\n",
            "79/79 [==============================] - 1s 12ms/step - loss: 10908964.0000\n",
            "Epoch 126/300\n",
            "79/79 [==============================] - 1s 13ms/step - loss: 11479878.0000\n",
            "Epoch 127/300\n",
            "79/79 [==============================] - 1s 12ms/step - loss: 12626374.0000\n",
            "Epoch 128/300\n",
            "79/79 [==============================] - 1s 12ms/step - loss: 12476476.0000\n",
            "Epoch 129/300\n",
            "79/79 [==============================] - 1s 12ms/step - loss: 11087305.0000\n",
            "Epoch 130/300\n",
            "79/79 [==============================] - 1s 12ms/step - loss: 11581718.0000\n",
            "Epoch 131/300\n",
            "79/79 [==============================] - 1s 12ms/step - loss: 12301732.0000\n",
            "Epoch 132/300\n",
            "79/79 [==============================] - 1s 13ms/step - loss: 11301129.0000\n",
            "Epoch 133/300\n",
            "79/79 [==============================] - 1s 12ms/step - loss: 11202719.0000\n",
            "Epoch 134/300\n",
            "79/79 [==============================] - 1s 12ms/step - loss: 12324274.0000\n",
            "Epoch 135/300\n",
            "79/79 [==============================] - 1s 12ms/step - loss: 11584432.0000\n",
            "Epoch 136/300\n",
            "79/79 [==============================] - 1s 12ms/step - loss: 11574202.0000\n",
            "Epoch 137/300\n",
            "79/79 [==============================] - 1s 12ms/step - loss: 12893123.0000\n",
            "Epoch 138/300\n",
            "79/79 [==============================] - 1s 12ms/step - loss: 12239955.0000\n",
            "Epoch 139/300\n",
            "79/79 [==============================] - 1s 12ms/step - loss: 10964031.0000\n",
            "Epoch 140/300\n",
            "79/79 [==============================] - 1s 13ms/step - loss: 11850898.0000\n",
            "Epoch 141/300\n",
            "79/79 [==============================] - 1s 13ms/step - loss: 14420925.0000\n",
            "Epoch 142/300\n",
            "79/79 [==============================] - 1s 13ms/step - loss: 12168962.0000\n",
            "Epoch 143/300\n",
            "79/79 [==============================] - 1s 13ms/step - loss: 13097095.0000\n",
            "Epoch 144/300\n",
            "79/79 [==============================] - 1s 13ms/step - loss: 12149691.0000\n",
            "Epoch 145/300\n",
            "79/79 [==============================] - 1s 13ms/step - loss: 12542227.0000\n",
            "Epoch 146/300\n",
            "79/79 [==============================] - 1s 13ms/step - loss: 11033415.0000\n",
            "Epoch 147/300\n",
            "79/79 [==============================] - 1s 13ms/step - loss: 11584099.0000\n",
            "Epoch 148/300\n",
            "79/79 [==============================] - 1s 13ms/step - loss: 13849791.0000\n",
            "Epoch 149/300\n",
            "79/79 [==============================] - 1s 13ms/step - loss: 10917348.0000\n",
            "Epoch 150/300\n",
            "79/79 [==============================] - 1s 13ms/step - loss: 10486075.0000\n",
            "Epoch 151/300\n",
            "79/79 [==============================] - 1s 13ms/step - loss: 13227843.0000\n",
            "Epoch 152/300\n",
            "79/79 [==============================] - 1s 13ms/step - loss: 12204554.0000\n",
            "Epoch 153/300\n",
            "79/79 [==============================] - 1s 12ms/step - loss: 12013046.0000\n",
            "Epoch 154/300\n",
            "79/79 [==============================] - 1s 12ms/step - loss: 11151914.0000\n",
            "Epoch 155/300\n",
            "79/79 [==============================] - 1s 12ms/step - loss: 11687115.0000\n",
            "Epoch 156/300\n",
            "79/79 [==============================] - 1s 12ms/step - loss: 10662027.0000\n",
            "Epoch 157/300\n",
            "79/79 [==============================] - 1s 12ms/step - loss: 10791249.0000\n",
            "Epoch 158/300\n",
            "79/79 [==============================] - 1s 12ms/step - loss: 11763368.0000\n",
            "Epoch 159/300\n",
            "79/79 [==============================] - 1s 13ms/step - loss: 12246261.0000\n",
            "Epoch 160/300\n",
            "79/79 [==============================] - 1s 12ms/step - loss: 10201957.0000\n",
            "Epoch 161/300\n",
            "79/79 [==============================] - 1s 12ms/step - loss: 11445815.0000\n",
            "Epoch 162/300\n",
            "79/79 [==============================] - 1s 13ms/step - loss: 11581473.0000\n",
            "Epoch 163/300\n",
            "79/79 [==============================] - 1s 12ms/step - loss: 11842529.0000\n",
            "Epoch 164/300\n",
            "79/79 [==============================] - 1s 12ms/step - loss: 10835542.0000\n",
            "Epoch 165/300\n",
            "79/79 [==============================] - 1s 12ms/step - loss: 11245189.0000\n",
            "Epoch 166/300\n",
            "79/79 [==============================] - 1s 12ms/step - loss: 11843723.0000\n",
            "Epoch 167/300\n",
            "79/79 [==============================] - 1s 12ms/step - loss: 11644935.0000\n",
            "Epoch 168/300\n",
            "79/79 [==============================] - 1s 12ms/step - loss: 13939544.0000\n",
            "Epoch 169/300\n",
            "79/79 [==============================] - 1s 12ms/step - loss: 11080977.0000\n",
            "Epoch 170/300\n",
            "79/79 [==============================] - 1s 12ms/step - loss: 11186466.0000\n",
            "Epoch 171/300\n",
            "79/79 [==============================] - 1s 12ms/step - loss: 10828791.0000\n",
            "Epoch 172/300\n",
            "79/79 [==============================] - 1s 12ms/step - loss: 10843798.0000\n",
            "Epoch 173/300\n",
            "79/79 [==============================] - 1s 12ms/step - loss: 10548264.0000\n",
            "Epoch 174/300\n",
            "79/79 [==============================] - 1s 13ms/step - loss: 10509041.0000\n",
            "Epoch 175/300\n",
            "79/79 [==============================] - 1s 12ms/step - loss: 10215459.0000\n",
            "Epoch 176/300\n",
            "79/79 [==============================] - 1s 12ms/step - loss: 11457035.0000\n",
            "Epoch 177/300\n",
            "79/79 [==============================] - 1s 12ms/step - loss: 10332215.0000\n",
            "Epoch 178/300\n",
            "79/79 [==============================] - 1s 12ms/step - loss: 10972459.0000\n",
            "Epoch 179/300\n",
            "79/79 [==============================] - 1s 12ms/step - loss: 10335282.0000\n",
            "Epoch 180/300\n",
            "79/79 [==============================] - 1s 12ms/step - loss: 10306816.0000\n",
            "Epoch 181/300\n",
            "79/79 [==============================] - 1s 12ms/step - loss: 13633058.0000\n",
            "Epoch 182/300\n",
            "79/79 [==============================] - 1s 12ms/step - loss: 11253361.0000\n",
            "Epoch 183/300\n",
            "79/79 [==============================] - 1s 12ms/step - loss: 10091485.0000\n",
            "Epoch 184/300\n",
            "79/79 [==============================] - 1s 12ms/step - loss: 10316862.0000\n",
            "Epoch 185/300\n",
            "79/79 [==============================] - 1s 12ms/step - loss: 10498600.0000\n",
            "Epoch 186/300\n",
            "79/79 [==============================] - 1s 12ms/step - loss: 12710935.0000\n",
            "Epoch 187/300\n",
            "79/79 [==============================] - 1s 12ms/step - loss: 10842163.0000\n",
            "Epoch 188/300\n",
            "79/79 [==============================] - 1s 12ms/step - loss: 10836805.0000\n",
            "Epoch 189/300\n",
            "79/79 [==============================] - 1s 12ms/step - loss: 11174276.0000\n",
            "Epoch 190/300\n",
            "79/79 [==============================] - 1s 12ms/step - loss: 11983252.0000\n",
            "Epoch 191/300\n",
            "79/79 [==============================] - 1s 12ms/step - loss: 10103885.0000\n",
            "Epoch 192/300\n",
            "79/79 [==============================] - 1s 12ms/step - loss: 10806183.0000\n",
            "Epoch 193/300\n",
            "79/79 [==============================] - 1s 12ms/step - loss: 10808651.0000\n",
            "Epoch 194/300\n",
            "79/79 [==============================] - 1s 12ms/step - loss: 11226842.0000\n",
            "Epoch 195/300\n",
            "79/79 [==============================] - 1s 12ms/step - loss: 10502778.0000\n",
            "Epoch 196/300\n",
            "79/79 [==============================] - 1s 12ms/step - loss: 13277369.0000\n",
            "Epoch 197/300\n",
            "79/79 [==============================] - 1s 12ms/step - loss: 10982242.0000\n",
            "Epoch 198/300\n",
            "79/79 [==============================] - 1s 12ms/step - loss: 10662208.0000\n",
            "Epoch 199/300\n",
            "79/79 [==============================] - 1s 12ms/step - loss: 11498786.0000\n",
            "Epoch 200/300\n",
            "79/79 [==============================] - 1s 12ms/step - loss: 10300234.0000\n",
            "Epoch 201/300\n",
            "79/79 [==============================] - 1s 12ms/step - loss: 10272511.0000\n",
            "Epoch 202/300\n",
            "79/79 [==============================] - 1s 12ms/step - loss: 11153366.0000\n",
            "Epoch 203/300\n",
            "79/79 [==============================] - 1s 12ms/step - loss: 12233022.0000\n",
            "Epoch 204/300\n",
            "79/79 [==============================] - 1s 12ms/step - loss: 9653772.0000\n",
            "Epoch 205/300\n",
            "79/79 [==============================] - 1s 12ms/step - loss: 10219333.0000\n",
            "Epoch 206/300\n",
            "79/79 [==============================] - 1s 11ms/step - loss: 9942559.0000\n",
            "Epoch 207/300\n",
            "79/79 [==============================] - 1s 12ms/step - loss: 10665167.0000\n",
            "Epoch 208/300\n",
            "79/79 [==============================] - 1s 12ms/step - loss: 10895248.0000\n",
            "Epoch 209/300\n",
            "79/79 [==============================] - 1s 12ms/step - loss: 10323386.0000\n",
            "Epoch 210/300\n",
            "79/79 [==============================] - 1s 12ms/step - loss: 10854444.0000\n",
            "Epoch 211/300\n",
            "79/79 [==============================] - 1s 12ms/step - loss: 10432285.0000\n",
            "Epoch 212/300\n",
            "79/79 [==============================] - 1s 12ms/step - loss: 10840570.0000\n",
            "Epoch 213/300\n",
            "79/79 [==============================] - 1s 12ms/step - loss: 10892590.0000\n",
            "Epoch 214/300\n",
            "79/79 [==============================] - 1s 12ms/step - loss: 10948026.0000\n",
            "Epoch 215/300\n",
            "79/79 [==============================] - 1s 12ms/step - loss: 9603874.0000\n",
            "Epoch 216/300\n",
            "79/79 [==============================] - 1s 12ms/step - loss: 9833492.0000\n",
            "Epoch 217/300\n",
            "79/79 [==============================] - 1s 12ms/step - loss: 10192875.0000\n",
            "Epoch 218/300\n",
            "79/79 [==============================] - 1s 12ms/step - loss: 10373364.0000\n",
            "Epoch 219/300\n",
            "79/79 [==============================] - 1s 12ms/step - loss: 9668671.0000\n",
            "Epoch 220/300\n",
            "79/79 [==============================] - 1s 12ms/step - loss: 9599338.0000\n",
            "Epoch 221/300\n",
            "79/79 [==============================] - 1s 11ms/step - loss: 10756100.0000\n",
            "Epoch 222/300\n",
            "79/79 [==============================] - 1s 12ms/step - loss: 9971123.0000\n",
            "Epoch 223/300\n",
            "79/79 [==============================] - 1s 12ms/step - loss: 10317205.0000\n",
            "Epoch 224/300\n",
            "79/79 [==============================] - 1s 12ms/step - loss: 12363073.0000\n",
            "Epoch 225/300\n",
            "79/79 [==============================] - 1s 11ms/step - loss: 10186005.0000\n",
            "Epoch 226/300\n",
            "79/79 [==============================] - 1s 12ms/step - loss: 10610860.0000\n",
            "Epoch 227/300\n",
            "79/79 [==============================] - 1s 12ms/step - loss: 12019449.0000\n",
            "Epoch 228/300\n",
            "79/79 [==============================] - 1s 12ms/step - loss: 10151236.0000\n",
            "Epoch 229/300\n",
            "79/79 [==============================] - 1s 12ms/step - loss: 10756891.0000\n",
            "Epoch 230/300\n",
            "79/79 [==============================] - 1s 12ms/step - loss: 10003036.0000\n",
            "Epoch 231/300\n",
            "79/79 [==============================] - 1s 12ms/step - loss: 12398440.0000\n",
            "Epoch 232/300\n",
            "79/79 [==============================] - 1s 12ms/step - loss: 10547257.0000\n",
            "Epoch 233/300\n",
            "79/79 [==============================] - 1s 12ms/step - loss: 9550877.0000\n",
            "Epoch 234/300\n",
            "79/79 [==============================] - 1s 12ms/step - loss: 9853890.0000\n",
            "Epoch 235/300\n",
            "79/79 [==============================] - 1s 12ms/step - loss: 9729869.0000\n",
            "Epoch 236/300\n",
            "79/79 [==============================] - 1s 12ms/step - loss: 10066088.0000\n",
            "Epoch 237/300\n",
            "79/79 [==============================] - 1s 12ms/step - loss: 11890928.0000\n",
            "Epoch 238/300\n",
            "79/79 [==============================] - 1s 12ms/step - loss: 10413269.0000\n",
            "Epoch 239/300\n",
            "79/79 [==============================] - 1s 12ms/step - loss: 9304307.0000\n",
            "Epoch 240/300\n",
            "79/79 [==============================] - 1s 12ms/step - loss: 12660855.0000\n",
            "Epoch 241/300\n",
            "79/79 [==============================] - 1s 12ms/step - loss: 10072907.0000\n",
            "Epoch 242/300\n",
            "79/79 [==============================] - 1s 11ms/step - loss: 10330696.0000\n",
            "Epoch 243/300\n",
            "79/79 [==============================] - 1s 12ms/step - loss: 9637963.0000\n",
            "Epoch 244/300\n",
            "79/79 [==============================] - 1s 12ms/step - loss: 11609439.0000\n",
            "Epoch 245/300\n",
            "79/79 [==============================] - 1s 12ms/step - loss: 10101712.0000\n",
            "Epoch 246/300\n",
            "79/79 [==============================] - 1s 11ms/step - loss: 34622664.0000\n",
            "Epoch 247/300\n",
            "79/79 [==============================] - 1s 12ms/step - loss: 9880534.0000\n",
            "Epoch 248/300\n",
            "79/79 [==============================] - 1s 11ms/step - loss: 9292098.0000\n",
            "Epoch 249/300\n",
            "79/79 [==============================] - 1s 12ms/step - loss: 8805071.0000\n",
            "Epoch 250/300\n",
            "79/79 [==============================] - 1s 12ms/step - loss: 9551939.0000\n",
            "Epoch 251/300\n",
            "79/79 [==============================] - 1s 12ms/step - loss: 9235473.0000\n",
            "Epoch 252/300\n",
            "79/79 [==============================] - 1s 12ms/step - loss: 8867411.0000\n",
            "Epoch 253/300\n",
            "79/79 [==============================] - 1s 11ms/step - loss: 9282061.0000\n",
            "Epoch 254/300\n",
            "79/79 [==============================] - 1s 11ms/step - loss: 10258344.0000\n",
            "Epoch 255/300\n",
            "79/79 [==============================] - 1s 11ms/step - loss: 9787772.0000\n",
            "Epoch 256/300\n",
            "79/79 [==============================] - 1s 12ms/step - loss: 10190638.0000\n",
            "Epoch 257/300\n",
            "79/79 [==============================] - 1s 12ms/step - loss: 8834774.0000\n",
            "Epoch 258/300\n",
            "79/79 [==============================] - 1s 12ms/step - loss: 9415981.0000\n",
            "Epoch 259/300\n",
            "79/79 [==============================] - 1s 12ms/step - loss: 9747471.0000\n",
            "Epoch 260/300\n",
            "79/79 [==============================] - 1s 12ms/step - loss: 10281152.0000\n",
            "Epoch 261/300\n",
            "79/79 [==============================] - 1s 12ms/step - loss: 9122975.0000\n",
            "Epoch 262/300\n",
            "79/79 [==============================] - 1s 11ms/step - loss: 9620975.0000\n",
            "Epoch 263/300\n",
            "79/79 [==============================] - 1s 12ms/step - loss: 9383218.0000\n",
            "Epoch 264/300\n",
            "79/79 [==============================] - 1s 11ms/step - loss: 11163774.0000\n",
            "Epoch 265/300\n",
            "79/79 [==============================] - 1s 11ms/step - loss: 8792950.0000\n",
            "Epoch 266/300\n",
            "79/79 [==============================] - 1s 12ms/step - loss: 9093894.0000\n",
            "Epoch 267/300\n",
            "79/79 [==============================] - 1s 12ms/step - loss: 10439997.0000\n",
            "Epoch 268/300\n",
            "79/79 [==============================] - 1s 11ms/step - loss: 11032970.0000\n",
            "Epoch 269/300\n",
            "79/79 [==============================] - 1s 12ms/step - loss: 9309336.0000\n",
            "Epoch 270/300\n",
            "79/79 [==============================] - 1s 11ms/step - loss: 8989051.0000\n",
            "Epoch 271/300\n",
            "79/79 [==============================] - 1s 12ms/step - loss: 9533000.0000\n",
            "Epoch 272/300\n",
            "79/79 [==============================] - 1s 12ms/step - loss: 8948429.0000\n",
            "Epoch 273/300\n",
            "79/79 [==============================] - 1s 11ms/step - loss: 8661849.0000\n",
            "Epoch 274/300\n",
            "79/79 [==============================] - 1s 12ms/step - loss: 9109674.0000\n",
            "Epoch 275/300\n",
            "79/79 [==============================] - 1s 12ms/step - loss: 8970926.0000\n",
            "Epoch 276/300\n",
            "79/79 [==============================] - 1s 11ms/step - loss: 9370037.0000\n",
            "Epoch 277/300\n",
            "79/79 [==============================] - 1s 12ms/step - loss: 8826439.0000\n",
            "Epoch 278/300\n",
            "79/79 [==============================] - 1s 12ms/step - loss: 8656192.0000\n",
            "Epoch 279/300\n",
            "79/79 [==============================] - 1s 12ms/step - loss: 8673734.0000\n",
            "Epoch 280/300\n",
            "79/79 [==============================] - 1s 12ms/step - loss: 8871138.0000\n",
            "Epoch 281/300\n",
            "79/79 [==============================] - 1s 12ms/step - loss: 10460070.0000\n",
            "Epoch 282/300\n",
            "79/79 [==============================] - 1s 12ms/step - loss: 9931196.0000\n",
            "Epoch 283/300\n",
            "79/79 [==============================] - 1s 12ms/step - loss: 8544748.0000\n",
            "Epoch 284/300\n",
            "79/79 [==============================] - 1s 12ms/step - loss: 8490830.0000\n",
            "Epoch 285/300\n",
            "79/79 [==============================] - 1s 11ms/step - loss: 8787793.0000\n",
            "Epoch 286/300\n",
            "79/79 [==============================] - 1s 11ms/step - loss: 9110638.0000\n",
            "Epoch 287/300\n",
            "79/79 [==============================] - 1s 12ms/step - loss: 8843765.0000\n",
            "Epoch 288/300\n",
            "79/79 [==============================] - 1s 12ms/step - loss: 16127891.0000\n",
            "Epoch 289/300\n",
            "79/79 [==============================] - 1s 12ms/step - loss: 10586891.0000\n",
            "Epoch 290/300\n",
            "79/79 [==============================] - 1s 12ms/step - loss: 9026236.0000\n",
            "Epoch 291/300\n",
            "79/79 [==============================] - 1s 11ms/step - loss: 9465907.0000\n",
            "Epoch 292/300\n",
            "79/79 [==============================] - 1s 12ms/step - loss: 8719087.0000\n",
            "Epoch 293/300\n",
            "79/79 [==============================] - 1s 11ms/step - loss: 8483943.0000\n",
            "Epoch 294/300\n",
            "79/79 [==============================] - 1s 12ms/step - loss: 8762524.0000\n",
            "Epoch 295/300\n",
            "79/79 [==============================] - 1s 12ms/step - loss: 10750987.0000\n",
            "Epoch 296/300\n",
            "79/79 [==============================] - 1s 12ms/step - loss: 9431891.0000\n",
            "Epoch 297/300\n",
            "79/79 [==============================] - 1s 11ms/step - loss: 10183577.0000\n",
            "Epoch 298/300\n",
            "79/79 [==============================] - 1s 11ms/step - loss: 8653981.0000\n",
            "Epoch 299/300\n",
            "79/79 [==============================] - 1s 12ms/step - loss: 9517066.0000\n",
            "Epoch 300/300\n",
            "79/79 [==============================] - 1s 11ms/step - loss: 9734334.0000\n"
          ],
          "name": "stdout"
        },
        {
          "output_type": "execute_result",
          "data": {
            "text/plain": [
              "<tensorflow.python.keras.callbacks.History at 0x7faba2cee828>"
            ]
          },
          "metadata": {
            "tags": []
          },
          "execution_count": 40
        }
      ]
    },
    {
      "cell_type": "code",
      "metadata": {
        "id": "3oMlIc4ovJRW",
        "colab_type": "code",
        "colab": {
          "base_uri": "https://localhost:8080/",
          "height": 119
        },
        "outputId": "91635f09-951b-4123-9740-92f6b66e639a"
      },
      "source": [
        "jse['Value'].tail()"
      ],
      "execution_count": null,
      "outputs": [
        {
          "output_type": "execute_result",
          "data": {
            "text/plain": [
              "2510    376218.86\n",
              "2511    372186.65\n",
              "2512    369556.63\n",
              "2513    368853.34\n",
              "2514    369854.08\n",
              "Name: Value, dtype: float64"
            ]
          },
          "metadata": {
            "tags": []
          },
          "execution_count": 41
        }
      ]
    },
    {
      "cell_type": "code",
      "metadata": {
        "id": "VlF_b8nTrmVG",
        "colab_type": "code",
        "colab": {
          "base_uri": "https://localhost:8080/",
          "height": 357
        },
        "outputId": "07907aa2-c201-4d04-949a-bcbe9be9b854"
      },
      "source": [
        "x_input = np.array([369556.63, 368853.34, 369854.08])\n",
        "temp_input=list(x_input)\n",
        "lst_output=[]\n",
        "i=0\n",
        "\n",
        "while(i<10):\n",
        "    \n",
        "    if(len(temp_input)>3):\n",
        "        x_input = np.array(temp_input[1:])\n",
        "        print(\"{} day input {}\".format(i,x_input))\n",
        "        #print(x_input)\n",
        "        x_input = x_input.reshape((1, n_steps, n_features))\n",
        "        #print(x_input)\n",
        "        yhat = model.predict(x_input, verbose=0)\n",
        "        print(\"{} day output {}\".format(i,yhat))\n",
        "        temp_input.append(yhat[0][0])\n",
        "        temp_input=temp_input[1:]\n",
        "        #print(temp_input)\n",
        "        lst_output.append(yhat[0][0])\n",
        "        i=i+1\n",
        "    else:\n",
        "        x_input = x_input.reshape((1, n_steps, n_features))\n",
        "        yhat = model.predict(x_input, verbose=0)\n",
        "        print(yhat[0])\n",
        "        temp_input.append(yhat[0][0])\n",
        "        lst_output.append(yhat[0][0])\n",
        "        i=i+1\n",
        "    \n",
        "\n",
        "print(lst_output)"
      ],
      "execution_count": null,
      "outputs": [
        {
          "output_type": "stream",
          "text": [
            "[368685.44]\n",
            "1 day input [368853.34   369854.08   368685.4375]\n",
            "1 day output [[368334.25]]\n",
            "2 day input [369854.08   368685.4375 368334.25  ]\n",
            "2 day output [[368134.94]]\n",
            "3 day input [368685.44 368334.25 368134.94]\n",
            "3 day output [[367597.94]]\n",
            "4 day input [368334.25 368134.94 367597.94]\n",
            "4 day output [[367222.9]]\n",
            "5 day input [368134.94 367597.94 367222.9 ]\n",
            "5 day output [[366851.]]\n",
            "6 day input [367597.94 367222.9  366851.  ]\n",
            "6 day output [[366429.38]]\n",
            "7 day input [367222.9  366851.   366429.38]\n",
            "7 day output [[366038.1]]\n",
            "8 day input [366851.   366429.38 366038.1 ]\n",
            "8 day output [[365644.]]\n",
            "9 day input [366429.38 366038.1  365644.  ]\n",
            "9 day output [[365243.34]]\n",
            "[368685.44, 368334.25, 368134.94, 367597.94, 367222.9, 366851.0, 366429.38, 366038.1, 365644.0, 365243.34]\n"
          ],
          "name": "stdout"
        }
      ]
    },
    {
      "cell_type": "code",
      "metadata": {
        "id": "r55HT_CPx6m3",
        "colab_type": "code",
        "colab": {}
      },
      "source": [
        ""
      ],
      "execution_count": null,
      "outputs": []
    },
    {
      "cell_type": "code",
      "metadata": {
        "id": "P-MqkQ9_rmX8",
        "colab_type": "code",
        "colab": {
          "base_uri": "https://localhost:8080/",
          "height": 187
        },
        "outputId": "7ea16fd8-e83a-4e38-b318-8597d4b7f20a"
      },
      "source": [
        "lst_output"
      ],
      "execution_count": null,
      "outputs": [
        {
          "output_type": "execute_result",
          "data": {
            "text/plain": [
              "[368685.44,\n",
              " 368334.25,\n",
              " 368134.94,\n",
              " 367597.94,\n",
              " 367222.9,\n",
              " 366851.0,\n",
              " 366429.38,\n",
              " 366038.1,\n",
              " 365644.0,\n",
              " 365243.34]"
            ]
          },
          "metadata": {
            "tags": []
          },
          "execution_count": 49
        }
      ]
    },
    {
      "cell_type": "code",
      "metadata": {
        "id": "NNeR9owArmcO",
        "colab_type": "code",
        "colab": {
          "base_uri": "https://localhost:8080/",
          "height": 34
        },
        "outputId": "31d84426-270f-40aa-db79-8c853f209aab"
      },
      "source": [
        "len(timeseries_data)"
      ],
      "execution_count": null,
      "outputs": [
        {
          "output_type": "execute_result",
          "data": {
            "text/plain": [
              "2515"
            ]
          },
          "metadata": {
            "tags": []
          },
          "execution_count": 58
        }
      ]
    },
    {
      "cell_type": "code",
      "metadata": {
        "id": "jKjRl6Ivrv4n",
        "colab_type": "code",
        "colab": {}
      },
      "source": [
        "day_new=np.arange(1,2516)\n",
        "day_pred=np.arange(10,20)"
      ],
      "execution_count": null,
      "outputs": []
    },
    {
      "cell_type": "code",
      "metadata": {
        "id": "pM6TtWvtrv7H",
        "colab_type": "code",
        "colab": {
          "base_uri": "https://localhost:8080/",
          "height": 282
        },
        "outputId": "d228892c-22cb-4cec-daea-06e4d23b4a62"
      },
      "source": [
        "plt.plot(day_new,timeseries_data)\n",
        "plt.plot(day_pred,lst_output)"
      ],
      "execution_count": null,
      "outputs": [
        {
          "output_type": "execute_result",
          "data": {
            "text/plain": [
              "[<matplotlib.lines.Line2D at 0x7fab9c4d8748>]"
            ]
          },
          "metadata": {
            "tags": []
          },
          "execution_count": 60
        },
        {
          "output_type": "display_data",
          "data": {
            "image/png": "[encoded data removed]",
            "text/plain": [
              "<Figure size 432x288 with 1 Axes>"
            ]
          },
          "metadata": {
            "tags": [],
            "needs_background": "light"
          }
        }
      ]
    },
    {
      "cell_type": "code",
      "metadata": {
        "id": "Q4xB8u2grwDB",
        "colab_type": "code",
        "colab": {}
      },
      "source": [
        ""
      ],
      "execution_count": null,
      "outputs": []
    },
    {
      "cell_type": "code",
      "metadata": {
        "id": "ltBS7kQFrv9v",
        "colab_type": "code",
        "colab": {}
      },
      "source": [
        ""
      ],
      "execution_count": null,
      "outputs": []
    },
    {
      "cell_type": "code",
      "metadata": {
        "id": "TfLBajPNrmie",
        "colab_type": "code",
        "colab": {}
      },
      "source": [
        ""
      ],
      "execution_count": null,
      "outputs": []
    }
  ]
}